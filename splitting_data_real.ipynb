{
 "cells": [
  {
   "cell_type": "markdown",
   "metadata": {},
   "source": [
    "# Splitting Data\n",
    "In this lab you will begin working with data sets with multiple peices of information. Multiple pieces of information is normally stored in format called **CSV** which stands for Comma Seperate Values.\n",
    "\n",
    "For any questions, edit the appropriate markdown block and answer between the ` ``` ``` ` using complete sentences. \n",
    "\n",
    "For any code blocks you are to include comments explaining your code to recieve full credit."
   ]
  },
  {
   "cell_type": "markdown",
   "metadata": {},
   "source": [
    "1. Open the file `sales.csv` in VSCode, how is the data organized? How can you differentiate between the various pieces of information included in this data set?\n",
    "```\n",
    "The data is organized aslist and has a different section for each part of information\n",
    "```\n",
    "\n",
    "2. Is this a effective method of storing data? Why or why not?\n",
    "```\n",
    "It's an effective method of storing data because it has each line being a different persons data keepng it pretty organized and easy to read.\n",
    "```\n",
    "\n",
    "3. What types of information is stored in this file? How could this information be used by a business?\n",
    "```\n",
    "The type of infomation that is stored in this file is a customer name the subtoal and total of the item they buy and the date they do it. Now This information could be useful to a businesses because it can show them certain info like which items are selling the most or the least/\n",
    "```\n",
    "\n",
    "4. How would we seperate each piece of information to be used in a python program?\n",
    "```\n",
    "We could sepreate each piece of information to be used in a python python program by using a bar graph and the split function.\n",
    "```"
   ]
  },
  {
   "cell_type": "markdown",
   "metadata": {},
   "source": [
    "*Use the code block below to open `sales.csv` with python. Then create a variable called `content` which is equal to a list of each line of the file*"
   ]
  },
  {
   "cell_type": "code",
   "execution_count": null,
   "metadata": {},
   "outputs": [],
   "source": [
    "import matplotlib.pyplot as plt \n",
    "\n",
    "with open(\"sales.csv\") as myFile:\n",
    "    content = myFile.readlines()\n",
    "    print(content)\n"
   ]
  },
  {
   "cell_type": "markdown",
   "metadata": {},
   "source": [
    "*Using the `split` function and a `for` loop calculate the total sales in a month*\n",
    "\n",
    "*Hint: you will need a seperate variable for each month*"
   ]
  },
  {
   "cell_type": "code",
   "execution_count": null,
   "metadata": {},
   "outputs": [],
   "source": [
    "sales = open(\"sales.csv\")\n",
    "\n",
    "january = 0 \n",
    "feburary = 0\n",
    "march = 0\n",
    "\n",
    "\n",
    "for L in content:\n",
    "    Sp = L.strip().split(',')\n",
    "\n",
    "\n",
    "    date = Sp[3]\n",
    "    month = date.split('/')[0]\n",
    "    total = float(Sp[2])\n",
    "\n",
    "    if month == '1':\n",
    "        january += total\n",
    "    elif month == '2':\n",
    "        feburary += total\n",
    "    elif month == '3':\n",
    "        march += total\n",
    "\n",
    "print(\"January's total sales are:\", \"$\", january)\n",
    "print(\"Februrary's total sales are:\", \"$\",feburary)\n",
    "print(\"March's total sales are:\", \"$\",march)\n"
   ]
  },
  {
   "cell_type": "markdown",
   "metadata": {},
   "source": [
    "*Using your calculated total sales create a graph to represent this data and write a written analysis*"
   ]
  },
  {
   "cell_type": "code",
   "execution_count": null,
   "metadata": {},
   "outputs": [],
   "source": [
    "import matplotlib.pyplot as plt #importing matplotlib\n",
    "\n",
    "y = [january,feburary,march] #list for X \n",
    "x = ['January','Feburary','March'] #list for Y\n",
    "\n",
    "plt.plot(x,y)\n",
    "plt.ylabel(\"Sales\") #y label for graphs\n",
    "plt.xlabel(\"Month\") # x label for graph\n",
    "plt.title(\"Sales each month\") #making the title\n",
    "plt.ylim(0,55000)"
   ]
  },
  {
   "cell_type": "markdown",
   "metadata": {},
   "source": []
  },
  {
   "cell_type": "markdown",
   "metadata": {},
   "source": [
    "*Using the `split` function, seperate each row of data. Then append the customer's name to a list called `customers`*"
   ]
  },
  {
   "cell_type": "code",
   "execution_count": null,
   "metadata": {},
   "outputs": [],
   "source": [
    "customers = []\n",
    "\n",
    "for C in content:\n",
    "    C = C.strip().split(',')\n",
    "    customer_name = C[0]\n",
    "    customers.append(customer_name)\n",
    "\n",
    "print(customers)"
   ]
  },
  {
   "cell_type": "markdown",
   "metadata": {},
   "source": [
    "Run the following code, and analyze the output"
   ]
  },
  {
   "cell_type": "code",
   "execution_count": null,
   "metadata": {},
   "outputs": [],
   "source": [
    "from collections import Counter\n",
    "\n",
    "letters = ['B','B','A','B','C','A','B','B','A','C']\n",
    "\n",
    "letters_count = Counter(letters)\n",
    "\n",
    "print(letters_count)"
   ]
  },
  {
   "cell_type": "markdown",
   "metadata": {},
   "source": [
    "5. What was the output of the above code block? What did it accomplish?\n",
    "```\n",
    "The output of the cod is \"Counter({'B': 5, 'A': 3, 'C': 2})\". What the code accomplished was counting the amount of times each letter was showed and then putting the number next to the letter to show how many times it was mentioned in the code\n",
    "```\n",
    "6. What is the format of the output? What data type does it most relate to?\n",
    "```\n",
    "The the format of the output is first a letter and than the number reprensenting the amount of times the number was shown. and the data type it most relates to is a tuple.\n",
    "\n",
    "```"
   ]
  },
  {
   "cell_type": "markdown",
   "metadata": {},
   "source": [
    "*Using the `Counter` from the `collections` library, and your list of customers create a graph to represent this data and write a written analysis*"
   ]
  },
  {
   "cell_type": "code",
   "execution_count": null,
   "metadata": {},
   "outputs": [],
   "source": [
    "customers_count = Counter(customers)\n",
    "\n",
    "print(customers_count)\n",
    "\n",
    "k = customers_count.keys()\n",
    "v = customers_count.values()\n",
    "\n",
    "plt.figure(figsize=(15,5))\n",
    "plt.xlabel('Name')\n",
    "plt.xticks(rotation = 110)\n",
    "plt.bar(k,v)\n",
    "plt.title('Customer')\n"
   ]
  },
  {
   "cell_type": "markdown",
   "metadata": {},
   "source": []
  }
 ],
 "metadata": {
  "kernelspec": {
   "display_name": "Python 3",
   "language": "python",
   "name": "python3"
  },
  "language_info": {
   "codemirror_mode": {
    "name": "ipython",
    "version": 3
   },
   "file_extension": ".py",
   "mimetype": "text/x-python",
   "name": "python",
   "nbconvert_exporter": "python",
   "pygments_lexer": "ipython3",
   "version": "3.11.5"
  }
 },
 "nbformat": 4,
 "nbformat_minor": 2
}
